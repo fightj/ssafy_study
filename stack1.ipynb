{
 "cells": [
  {
   "cell_type": "markdown",
   "metadata": {},
   "source": [
    "## 19975. 반복문자 지우기 D2\n",
    "- input data\n",
    "3\n",
    "ABCCB\n",
    "NNNASBBSNV\n",
    "UKJWHGGHNFTCRRCTWLALX"
   ]
  },
  {
   "cell_type": "code",
   "execution_count": 2,
   "metadata": {},
   "outputs": [
    {
     "name": "stdout",
     "output_type": "stream",
     "text": [
      "#1 1\n",
      "#2 4\n",
      "#3 11\n"
     ]
    }
   ],
   "source": [
    "def push(stack, item, top):\n",
    "    top += 1\n",
    "    stack.append(item)\n",
    "    return top\n",
    "\n",
    "def my_pop(stack, top):\n",
    "    if top == -1:\n",
    "        return top\n",
    "    else:\n",
    "        return stack.pop(), top\n",
    "\n",
    "t = int(input())\n",
    "for tc in range(1, t+1):\n",
    "    s = input()\n",
    "    stack = []\n",
    "    top = -1\n",
    "\n",
    "    for i in range(len(s)):\n",
    "        top = push(stack, s[i], top)\n",
    "        if top > 0 and stack[top-1] == stack[top]:\n",
    "            my_pop(stack, top)\n",
    "            my_pop(stack, top)\n",
    "            top -= 2\n",
    "    print(f'#{tc} {len(stack)}')\n"
   ]
  },
  {
   "cell_type": "markdown",
   "metadata": {},
   "source": [
    "## 괄호검사 D3\n",
    "- input data\n",
    "3\n",
    "print('{} {}'.format(1, 2))\n",
    "N, M = map(int, input().split()) \n",
    "print('#{} {}'.format(tc, find())"
   ]
  },
  {
   "cell_type": "code",
   "execution_count": 3,
   "metadata": {},
   "outputs": [
    {
     "name": "stdout",
     "output_type": "stream",
     "text": [
      "#1 1\n",
      "#2 1\n",
      "#3 0\n"
     ]
    }
   ],
   "source": [
    "def push(stack, item, top):\n",
    "    top += 1\n",
    "    if top < len(stack):\n",
    "        stack[top] = item\n",
    "    else:\n",
    "        print('overflow')\n",
    "        top -= 1  # overflow 시 원래 상태로 복구\n",
    "    return top\n",
    " \n",
    "def my_pop(stack, top):\n",
    "    if top == -1:\n",
    "        return None, top\n",
    "    item = stack[top]\n",
    "    top -= 1\n",
    "    return item, top\n",
    " \n",
    "t = int(input())\n",
    "for tc in range(1, t + 1):\n",
    "    a = input().strip()\n",
    "    top = -1\n",
    "    size = len(a)\n",
    "    stack = [0] * size\n",
    "    result = 1  # 초기화\n",
    " \n",
    "    for thing in a:\n",
    "        if thing in '{(':\n",
    "            top = push(stack, thing, top)\n",
    "        elif thing in '}':\n",
    "            value, top = my_pop(stack, top)\n",
    "            if value != '{':\n",
    "                result = 0\n",
    "        elif thing in ')':\n",
    "            value, top = my_pop(stack, top)\n",
    "            if value != '(':\n",
    "                result = 0\n",
    " \n",
    "    if top != -1:\n",
    "        result = 0\n",
    " \n",
    "    print(f'#{tc} {result}')"
   ]
  }
 ],
 "metadata": {
  "kernelspec": {
   "display_name": "Python 3",
   "language": "python",
   "name": "python3"
  },
  "language_info": {
   "codemirror_mode": {
    "name": "ipython",
    "version": 3
   },
   "file_extension": ".py",
   "mimetype": "text/x-python",
   "name": "python",
   "nbconvert_exporter": "python",
   "pygments_lexer": "ipython3",
   "version": "3.9.13"
  }
 },
 "nbformat": 4,
 "nbformat_minor": 2
}
