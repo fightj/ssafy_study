{
 "cells": [
  {
   "cell_type": "markdown",
   "metadata": {},
   "source": [
    "## 요리사"
   ]
  },
  {
   "cell_type": "code",
   "execution_count": 2,
   "metadata": {},
   "outputs": [],
   "source": [
    "def food_s(cnt, subtree, n):\n",
    "    global ans\n",
    "    if cnt == n:\n",
    "        lst1 = subtree[:n//2]\n",
    "        lst2 = subtree[n//2:]\n",
    "        food_a = 0\n",
    "        food_b = 0\n",
    "        for i in range(n//2):\n",
    "            for j in range(n//2):\n",
    "                if i < j:\n",
    "                    food_a += arr[lst1[i]][lst1[j]] + arr[lst1[j]][lst1[i]]\n",
    "                    food_b += arr[lst2[i]][lst2[j]] + arr[lst2[j]][lst2[i]]\n",
    "        sum_v = abs(food_a - food_b)\n",
    "        if sum_v < ans:\n",
    "            ans = sum_v\n",
    "        return\n",
    "    else:\n",
    "        for value in food_list:\n",
    "            if value not in subtree:\n",
    "                subtree.append(value)\n",
    "                food_s(cnt+1, subtree, n)\n",
    "                subtree.pop()\n",
    "    return\n",
    "T = int(input())\n",
    "for tc in range(1, T+1):\n",
    "    N = int(input())\n",
    "    arr = [[int(a) for a in input().split()]for _ in range(N)]\n",
    "    food_list = [int(i) for i in range(N)]\n",
    "    ans = float('inf')\n",
    "\n",
    "    food_s(0, [], N)\n",
    "\n",
    "    print(f'#{tc} {ans}')"
   ]
  },
  {
   "cell_type": "markdown",
   "metadata": {},
   "source": [
    "- 기존의 코드는 구현은 됐음. 하지만 제한시간 초과.\n",
    "- 방식: 순열로 가능한 모든 경우의 수 를 구하고 -> 연산 진행\n",
    "- 문제점: [0,1,2,3]순열과 [3,2,1,0]순열의 경우 어차피 같은 결과값을 가지고 있으나, 연산을 중복으로 하기 때문에 시간복잡도가 높았음. 22/50개 정답."
   ]
  },
  {
   "cell_type": "code",
   "execution_count": null,
   "metadata": {},
   "outputs": [],
   "source": [
    "\n",
    "def food_s(cnt, idx, selected):\n",
    "    global ans\n",
    "    if cnt == N // 2:   # 반, 반 나눠서 selected에 둘 다 있으면 food_a, 둘다 없으면 food_b\n",
    "        food_a, food_b = 0, 0\n",
    "        for i in range(N):      \n",
    "            for j in range(i + 1, N):\n",
    "                if selected[i] and selected[j]:\n",
    "                    food_a += arr[i][j] + arr[j][i]\n",
    "                elif not selected[i] and not selected[j]:\n",
    "                    food_b += arr[i][j] + arr[j][i]\n",
    "        ans = min(ans, abs(food_a - food_b))\n",
    "        return\n",
    "\n",
    "    for i in range(idx, N):\n",
    "        selected[i] = True\n",
    "        food_s(cnt + 1, i + 1, selected)\n",
    "        selected[i] = False\n",
    "\n",
    "\n",
    "T = int(input())\n",
    "for tc in range(1, T + 1):\n",
    "    N = int(input())\n",
    "    arr = [list(map(int, input().split())) for _ in range(N)]\n",
    "    selected = [False] * N  # 방문 여부를 판단. \n",
    "    ans = float('inf')  # 최솟값을 저장하는 변수\n",
    "    food_s(0, 0, selected)  \n",
    "    print(f'#{tc} {ans}')"
   ]
  },
  {
   "cell_type": "markdown",
   "metadata": {},
   "source": [
    "- 최종 코드\n",
    "- selected 라는 리스트를 만들고, 해당 리스트를 for문을 통해서 순회하며 selected의 길이가 N//2가 될때까지 반복해서 arr리스트의 길이의 절반만큼 순회를 하면 if문에 들어가서 음식a와 음식b를 연산."
   ]
  },
  {
   "cell_type": "markdown",
   "metadata": {},
   "source": [
    "## 활주로 건설"
   ]
  },
  {
   "cell_type": "code",
   "execution_count": null,
   "metadata": {},
   "outputs": [],
   "source": [
    "def check(lst, v):\n",
    "    cnt = 1 # 연속된 동일 숫자의 개수 카운트\n",
    "    for i in range(1, len(lst)):\n",
    "        if lst[i-1] == lst[i]:\n",
    "            cnt += 1\n",
    "            # 이전 높이보다 높아졌다면 -> L길이 만큼의 여유공간이 있으면서 -> 경사로가 설치가 되어있는지 확인\n",
    "        elif lst[i-1]+1 == lst[i] and cnt >= L and v[i-L:i] == [0]*L:\n",
    "            v[i - L:i] = [1] * L    # 경사로 놓기\n",
    "            cnt = 1\n",
    "        elif lst[i-1] > lst[i]: # 높이가 1칸 낮아지면 cnt = 1로 다시 초기화\n",
    "            cnt = 1\n",
    "        else:   # 높이 차이가 2이상 나면 false 리턴.\n",
    "            return False\n",
    "    return True\n",
    "\n",
    "T = int(input())\n",
    "for tc in range(1, T+1):\n",
    "    N, L = map(int, input().split())\n",
    "    arr = [[int(a) for a in input().split()]for _ in range(N)]\n",
    "    ans = 0\n",
    "\n",
    "    for _ in range(2):\n",
    "        for lst in arr:\n",
    "            v = [0] * len(lst)  # 경사면을 겹쳐서 놓지 않도록 확인하기 위한 리스트\n",
    "            if check(lst, v) and check(lst[::-1], v[::-1]): # 왕복으로 체크해서 둘다 가능하면\n",
    "                ans += 1\n",
    "\n",
    "        arr = list(map(list, zip(*arr)))    # 열을 행으로 전치 행렬\n",
    "\n",
    "    print(f'#{tc} {ans}')"
   ]
  },
  {
   "cell_type": "markdown",
   "metadata": {},
   "source": [
    "- 접근방법: 각 행을 처음엔 오른쪽으로 순회하면서 오르막길이 생기면 경사로를 설치할 수 있는지 확인 -> 다시 행의 끝에서 역방향으로 오르막길이 생기면  경사로를 설치할 수 있는지 확인. 열의 경우 전치행렬을 통해 행으로 변경한 후 같은 연산 반복."
   ]
  },
  {
   "cell_type": "markdown",
   "metadata": {},
   "source": [
    "## 등산로 조성"
   ]
  },
  {
   "cell_type": "code",
   "execution_count": null,
   "metadata": {},
   "outputs": [],
   "source": [
    "def dfs(y, x, current_value, cnt, k_used):\n",
    "    global max_root\n",
    "\n",
    "    # 이동할 네 방향 정의 (상, 우, 하, 좌)\n",
    "    directions = [(-1, 0), (0, 1), (1, 0), (0, -1)]\n",
    "\n",
    "    # 더 이상 갈 수 있는 길이 없다고 가정\n",
    "    found_path = False\n",
    "\n",
    "    for dy, dx in directions:\n",
    "        ny, nx = y + dy, x + dx\n",
    "\n",
    "        if 0 <= ny < N and 0 <= nx < N and not visited[ny][nx]:\n",
    "            if current_value > arr[ny][nx]:\n",
    "                # 현재 높이가 다음 위치보다 크면 이동 가능\n",
    "                visited[ny][nx] = True\n",
    "                dfs(ny, nx, arr[ny][nx], cnt + 1, k_used)\n",
    "                visited[ny][nx] = False\n",
    "                found_path = True\n",
    "            elif not k_used and current_value > arr[ny][nx] - K:\n",
    "                # 현재 위치보다 높지만 K만큼 깎아서 이동 가능하면 이동\n",
    "                visited[ny][nx] = True\n",
    "                original_value = arr[ny][nx]\n",
    "                arr[ny][nx] = current_value - 1\n",
    "                dfs(ny, nx, arr[ny][nx], cnt + 1, True)\n",
    "                arr[ny][nx] = original_value\n",
    "                visited[ny][nx] = False\n",
    "                found_path = True\n",
    "\n",
    "    # 더 이상 이동할 수 있는 경로가 없다면, max_root 갱신\n",
    "    if not found_path:\n",
    "        max_root = max(max_root, cnt)\n",
    "\n",
    "\n",
    "# 입력 처리 및 문제 해결\n",
    "T = int(input())\n",
    "for tc in range(1, T + 1):\n",
    "    N, K = map(int, input().split())\n",
    "    arr = [list(map(int, input().split())) for _ in range(N)]\n",
    "\n",
    "    max_height = max(map(max, arr))\n",
    "    max_root = 0\n",
    "    visited = [[False] * N for _ in range(N)]\n",
    "\n",
    "    for i in range(N):\n",
    "        for j in range(N):\n",
    "            if arr[i][j] == max_height:\n",
    "                visited[i][j] = True\n",
    "                dfs(i, j, arr[i][j], 1, False)\n",
    "                visited[i][j] = False\n",
    "\n",
    "    print(f'#{tc} {max_root}')"
   ]
  },
  {
   "cell_type": "markdown",
   "metadata": {},
   "source": [
    "- 가장 높은 봉우리의 좌표를 top리스트에 저장하고 그 top리스트의 길이만큼 dfs함수 반복.\n",
    "- 상하좌우로 이동하면서 현재 높이가 다음 높이보다 높으면 재귀하면서 cnt를 1씩증가\n",
    "- 다음 높이가 현재 높이보다 높다면 -> 산을 깎은 이력이 있는지, 최대 k만큼 깎으면 현재 높이보다 낮아지는지 여부를 판단하고 다시 재귀하는 방식을 반복\n",
    "- found_path를 이용해서 경로를 찾았다면 true, 못찾았다면 해당 시점에서 cnt 값과 max_root와 비교하여 max_root갱신."
   ]
  }
 ],
 "metadata": {
  "kernelspec": {
   "display_name": "Python 3",
   "language": "python",
   "name": "python3"
  },
  "language_info": {
   "codemirror_mode": {
    "name": "ipython",
    "version": 3
   },
   "file_extension": ".py",
   "mimetype": "text/x-python",
   "name": "python",
   "nbconvert_exporter": "python",
   "pygments_lexer": "ipython3",
   "version": "3.9.13"
  }
 },
 "nbformat": 4,
 "nbformat_minor": 2
}
