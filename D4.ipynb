{
 "cells": [
  {
   "cell_type": "markdown",
   "metadata": {},
   "source": [
    "## 4613 러시아 국기 같은 깃발\n",
    "- 3개의 열을 각각 모든 경우의 수로 순회하며 해를 찾는 문제\n",
    "- 알아야 할 것: 3개의 열을 순회하는 법  "
   ]
  },
  {
   "cell_type": "markdown",
   "metadata": {},
   "source": [
    "- input data:\n",
    "2\n",
    "4 5\n",
    "WRWRW\n",
    "BWRWB\n",
    "WRWRW\n",
    "RWBWR\n",
    "6 14\n",
    "WWWWWWWWWWWWWW\n",
    "WWRRWWBBBBBBWW\n",
    "WRRRWWWBWWWWRB\n",
    "WWBWBWWWBWRRRR\n",
    "WBWBBWWWBBWRRW\n",
    "WWWWWWWWWWWWWW"
   ]
  },
  {
   "cell_type": "code",
   "execution_count": 1,
   "metadata": {},
   "outputs": [
    {
     "ename": "ValueError",
     "evalue": "invalid literal for int() with base 10: '2 4 5 WRWRW BWRWB WRWRW RWBWR 6 14 WWWWWWWWWWWWWW WWRRWWBBBBBBWW WRRRWWWBWWWWRB WWBWBWWWBWRRRR WBWBBWWWBBWRRW WWWWWWWWWWWWWW'",
     "output_type": "error",
     "traceback": [
      "\u001b[1;31m---------------------------------------------------------------------------\u001b[0m",
      "\u001b[1;31mValueError\u001b[0m                                Traceback (most recent call last)",
      "Cell \u001b[1;32mIn[1], line 1\u001b[0m\n\u001b[1;32m----> 1\u001b[0m t \u001b[38;5;241m=\u001b[39m \u001b[38;5;28;43mint\u001b[39;49m\u001b[43m(\u001b[49m\u001b[38;5;28;43minput\u001b[39;49m\u001b[43m(\u001b[49m\u001b[43m)\u001b[49m\u001b[43m)\u001b[49m\n\u001b[0;32m      2\u001b[0m \u001b[38;5;28;01mfor\u001b[39;00m tc \u001b[38;5;129;01min\u001b[39;00m \u001b[38;5;28mrange\u001b[39m(\u001b[38;5;241m1\u001b[39m, t\u001b[38;5;241m+\u001b[39m\u001b[38;5;241m1\u001b[39m):\n\u001b[0;32m      3\u001b[0m    n, m \u001b[38;5;241m=\u001b[39m \u001b[38;5;28mmap\u001b[39m(\u001b[38;5;28mint\u001b[39m, \u001b[38;5;28minput\u001b[39m()\u001b[38;5;241m.\u001b[39msplit())\n",
      "\u001b[1;31mValueError\u001b[0m: invalid literal for int() with base 10: '2 4 5 WRWRW BWRWB WRWRW RWBWR 6 14 WWWWWWWWWWWWWW WWRRWWBBBBBBWW WRRRWWWBWWWWRB WWBWBWWWBWRRRR WBWBBWWWBBWRRW WWWWWWWWWWWWWW'"
     ]
    }
   ],
   "source": [
    " t = int(input())\n",
    "for tc in range(1, t+1):\n",
    "    n, m = map(int, input().split())\n",
    "    arr = list(input()for _ in range(n))\n",
    "\n",
    "    mx = 0\n",
    "    for i in range(n-2):\n",
    "        for j in range(i+1, n-1):\n",
    "            cnt = 0\n",
    "            for t in range(i+1):\n",
    "                cnt += arr[t].count('W')\n",
    "            for t in range(i+1, j+1):\n",
    "                cnt += arr[t].count('B')\n",
    "            for t in range(j+1, n):\n",
    "                cnt += arr[t].count('R')\n",
    "            mx = max(mx, cnt)\n",
    "    print(f'#{tc} {n*m-mx}')"
   ]
  }
 ],
 "metadata": {
  "kernelspec": {
   "display_name": "Python 3",
   "language": "python",
   "name": "python3"
  },
  "language_info": {
   "codemirror_mode": {
    "name": "ipython",
    "version": 3
   },
   "file_extension": ".py",
   "mimetype": "text/x-python",
   "name": "python",
   "nbconvert_exporter": "python",
   "pygments_lexer": "ipython3",
   "version": "3.9.13"
  }
 },
 "nbformat": 4,
 "nbformat_minor": 2
}
