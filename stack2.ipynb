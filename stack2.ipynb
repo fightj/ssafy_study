{
 "cells": [
  {
   "attachments": {},
   "cell_type": "markdown",
   "metadata": {},
   "source": [
    "## 배열 최소합\n",
    "- input data: 3\n",
    "3\n",
    "2 1 2\n",
    "5 8 5\n",
    "7 2 2\n",
    "3\n",
    "9 4 7\n",
    "8 6 5\n",
    "5 3 7\n",
    "5\n",
    "5 2 1 1 9\n",
    "3 3 8 3 1\n",
    "9 2 8 8 6\n",
    "1 5 7 8 3\n",
    "5 5 4 6 8\n",
    "- 배열에서 각 열, 행에서 하나의 숫자만 뽑아서 더한 값의 최솟값을 구하는 문제 (dfs활용)"
   ]
  },
  {
   "cell_type": "code",
   "execution_count": null,
   "metadata": {},
   "outputs": [],
   "source": [
    "def dfs(n, sm):\n",
    "    global ans\n",
    "    if ans <= sm:\n",
    "        return\n",
    "    if n == N:\n",
    "        ans = min(ans, sm)\n",
    "        return\n",
    "    for j in range(N):\n",
    "        if v[j] == 0:\n",
    "            v[j] = 1\n",
    "            dfs(n+1, sm + arr[n][j])\n",
    "            v[j] = 0\n",
    "\n",
    "    return ans\n",
    "\n",
    "T = int(input())\n",
    "for tc in range(1, T+1):\n",
    "    N = int(input())\n",
    "    arr = [[int(a) for a in input().split()]for _ in range(N)]\n",
    "    v = [0]*N   # visited배열 초기화\n",
    "    ans = float('inf')\n",
    "\n",
    "    result = dfs(0,0)\n",
    "    print(f'#{tc} {result}')\n"
   ]
  }
 ],
 "metadata": {
  "language_info": {
   "name": "python"
  },
  "orig_nbformat": 4
 },
 "nbformat": 4,
 "nbformat_minor": 2
}
