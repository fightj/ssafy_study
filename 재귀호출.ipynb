{
 "cells": [
  {
   "cell_type": "markdown",
   "metadata": {},
   "source": [
    "## 19839 콜라츠 추측(low) D2\n",
    "- input data: 27"
   ]
  },
  {
   "cell_type": "code",
   "execution_count": 1,
   "metadata": {},
   "outputs": [
    {
     "name": "stdout",
     "output_type": "stream",
     "text": [
      "111\n"
     ]
    }
   ],
   "source": [
    "num = int(input())\n",
    "cnt = 0\n",
    "def cola(num, cnt):\n",
    "    if num == 1:\n",
    "        return cnt\n",
    "    else:\n",
    "        if num % 2 == 0:\n",
    "            cnt +=1\n",
    "            return cola(num // 2, cnt)\n",
    "        else:\n",
    "            cnt +=1\n",
    "            return cola(num*3 +1, cnt)\n",
    "\n",
    "\n",
    "result = cola(num, cnt)\n",
    "print(result)"
   ]
  },
  {
   "cell_type": "markdown",
   "metadata": {},
   "source": [
    "## 19861 프로듀스 101배수(mid) D3\n",
    "- input data:\n",
    "3\n",
    "22 79 21"
   ]
  },
  {
   "cell_type": "code",
   "execution_count": 2,
   "metadata": {},
   "outputs": [
    {
     "name": "stdout",
     "output_type": "stream",
     "text": [
      "22*79-21\n",
      "22+79*21\n"
     ]
    }
   ],
   "source": [
    "def make_101(lst, index, str_num, value, result):\n",
    "    if index == len(lst):\n",
    "        if value != 0 and value % 101 == 0:\n",
    "            result.append(str_num)\n",
    "        return\n",
    " \n",
    "    next_value = lst[index]\n",
    "    make_101(lst, index + 1, f'{str_num}*{next_value}', value * next_value, result)\n",
    "    make_101(lst, index + 1, f'{str_num}+{next_value}', value + next_value, result)\n",
    "    make_101(lst, index + 1, f'{str_num}-{next_value}', value - next_value, result)\n",
    " \n",
    " \n",
    "n = int(input())\n",
    "lst = list(map(int, input().split()))\n",
    "result = []\n",
    "make_101(lst, 1, str(lst[0]), lst[0], result)\n",
    " \n",
    "for i in range(len(result)):\n",
    "    print(result[i])"
   ]
  }
 ],
 "metadata": {
  "kernelspec": {
   "display_name": "Python 3",
   "language": "python",
   "name": "python3"
  },
  "language_info": {
   "codemirror_mode": {
    "name": "ipython",
    "version": 3
   },
   "file_extension": ".py",
   "mimetype": "text/x-python",
   "name": "python",
   "nbconvert_exporter": "python",
   "pygments_lexer": "ipython3",
   "version": "3.9.13"
  }
 },
 "nbformat": 4,
 "nbformat_minor": 2
}
