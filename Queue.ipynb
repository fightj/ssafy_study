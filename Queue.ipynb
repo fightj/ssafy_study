{
 "cells": [
  {
   "cell_type": "markdown",
   "metadata": {},
   "source": [
    "## 20096 피자굽기 D3\n",
    "- input data:3\n",
    "3 5 \n",
    "7 2 6 5 3\n",
    "5 10\n",
    "5 9 3 9 9 2 5 8 7 1\n",
    "5 10\n",
    "20 4 5 7 3 15 2 1 2 2\n",
    "- collections.deque()모듈을 사용해서 큐를 생성.\n",
    "- pizza_round.rotate(-1): 큐의 첫 번째 피자를 큐의 끝으로 이동시킵니다. 이는 피자가 한 라운드를 돌면서 다음 피자를 처리할 수 있게 합니다.\n",
    "\n"
   ]
  },
  {
   "cell_type": "code",
   "execution_count": null,
   "metadata": {},
   "outputs": [],
   "source": [
    "from collections import deque\n",
    "\n",
    "def check(rear):\n",
    "    # 현재 피자의 양을 절반으로 줄입니다\n",
    "    pizza_round[rear][1] //= 2\n",
    "    # 피자의 양이 0이 되면 새로운 피자를 큐에 추가하거나 기존 피자를 제거합니다\n",
    "    if pizza_round[rear][1] == 0:\n",
    "        if m_pizza:\n",
    "            pizza_round.popleft()\n",
    "            pizza_round.append(m_pizza.pop(0))\n",
    "        else:\n",
    "            pizza_round.popleft()\n",
    "    else:\n",
    "        return\n",
    "\n",
    "t = int(input())\n",
    "for tc in range(1, t + 1):\n",
    "    n, m = map(int, input().split())\n",
    "    pizza_round = deque()\n",
    "    m_pizza = list(map(int, input().split()))\n",
    "\n",
    "    # 각 피자의 인덱스와 양을 포함한 리스트를 생성합니다\n",
    "    m_pizza = [[i + 1, m_pizza[i]] for i in range(m)]  # 인덱스를 1-based로 설정\n",
    "\n",
    "    # 초기 피자 큐를 구성합니다\n",
    "    for _ in range(n):\n",
    "        pizza_round.append(m_pizza.pop(0))\n",
    "\n",
    "    # 큐의 길이가 1이 될 때까지 피자를 처리합니다\n",
    "    while len(pizza_round) > 1:\n",
    "        check(0)\n",
    "        pizza_round.rotate(1)\n",
    "\n",
    "    # 마지막 남은 피자의 인덱스를 출력합니다\n",
    "    result = pizza_round[0][0]\n",
    "    print(f'#{tc} {result}')"
   ]
  }
 ],
 "metadata": {
  "language_info": {
   "name": "python"
  }
 },
 "nbformat": 4,
 "nbformat_minor": 2
}
